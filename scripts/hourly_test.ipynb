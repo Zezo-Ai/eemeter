{
 "cells": [
  {
   "cell_type": "code",
   "execution_count": 1,
   "metadata": {},
   "outputs": [],
   "source": [
    "import os\n",
    "from pathlib import Path\n",
    "\n",
    "#auto load the eemeter module\n",
    "import warnings\n",
    "warnings.filterwarnings(\"ignore\")\n",
    "%load_ext autoreload\n",
    "%autoreload 2\n",
    "from matplotlib import pyplot as plt\n",
    "import numpy as np\n",
    "import time\n",
    "\n",
    "from hourly_test_utils import *\n",
    "from applied_data_science.bigquery.data import Meter_Data\n",
    "from eemeter import eemeter as em\n",
    "from eemeter.common.metrics import BaselineTestingMetrics as Metrics\n",
    "\n",
    "import multiprocessing as mp\n"
   ]
  },
  {
   "cell_type": "code",
   "execution_count": 2,
   "metadata": {},
   "outputs": [],
   "source": [
    "settings = em.HourlySettings(\n",
    "    TRAIN_FEATURES=['ghi'],\n",
    "    ALPHA=0.1,\n",
    "    L1_RATIO=0.1,\n",
    "    SEED=42\n",
    ")"
   ]
  },
  {
   "cell_type": "code",
   "execution_count": 42,
   "metadata": {},
   "outputs": [],
   "source": [
    "def obj_fcn(X, gradient=np.array([])):\n",
    "    timer_start = time.time()\n",
    "\n",
    "    # X = np.array(X)\n",
    "    # X[0] = 10**X[0] # alpha comes as log(alpha)\n",
    "    alpha, l1_ratio = X\n",
    "\n",
    "    \n",
    "    prf.settings.ALPHA = alpha\n",
    "    prf.settings.L1_RATIO = l1_ratio\n",
    "    \n",
    "    prf.run()\n",
    "    \n",
    "    obj = 0\n",
    "    count = 0\n",
    "    all_test_errors = []\n",
    "    for res in prf.results:\n",
    "        _, _, errors = res\n",
    "        if (errors!=None) and (errors['train'][0]!= np.inf) and (errors['test'][0]!= np.inf):\n",
    "            all_test_errors.append(errors['test'][0])\n",
    "\n",
    "    # anomaly detection in all_test_errors with 3 sigma rule\n",
    "    mean = np.mean(all_test_errors)\n",
    "    std = np.std(all_test_errors)\n",
    "    anomalies_count = 0\n",
    "    anomaly_errors = []\n",
    "    for error in all_test_errors:\n",
    "        if error < mean + 3*std:\n",
    "            obj += error\n",
    "            count += 1\n",
    "        else:\n",
    "            anomalies_count += 1\n",
    "            anomaly_errors.append(error)\n",
    "    if count == 0:\n",
    "        obj = np.inf\n",
    "    else:\n",
    "        obj /= count\n",
    "    print(f\"alpha: {alpha}, l1_ratio: {l1_ratio}, obj: {obj}, count: {count}, anomalies_count: {anomalies_count}, mean: {mean}, std: {std}, anomalies: {anomaly_errors}\")\n",
    "    \n",
    "    print(f\"Time taken: {time.time()-timer_start}\")\n",
    "    return float(obj)\n",
    "    "
   ]
  },
  {
   "cell_type": "code",
   "execution_count": 46,
   "metadata": {},
   "outputs": [],
   "source": [
    "# Optimization settings\n",
    "opt_options = {\n",
    "    \"global\": {\"algorithm\": \"RBFOpt\", \n",
    "               \"stop_criteria_type\": 'Iteration Maximum', \n",
    "               \"stop_criteria_val\": 2, \n",
    "               \"initial_step\": 0.01, # percentage},\n",
    "               \"xtol_rel\": 1E-5,\n",
    "               \"ftol_rel\": 1E-5,\n",
    "               \"initial_pop_multiplier\": 2,\n",
    "    },\n",
    "    # \"local\":  {\"algorithm\": \"nlopt_SBPLX\", \n",
    "    #            \"stop_criteria_type\": 'Iteration Maximum', \n",
    "    #            \"stop_criteria_val\": 1000, \n",
    "    #            \"initial_step\": 0.15, # percentage},\n",
    "    #            \"xtol_rel\": 1E-5,\n",
    "    #            \"ftol_rel\": 1E-5,\n",
    "    # },\n",
    "}\n",
    "subsamples = [3]\n",
    "solar_meters = [False]\n",
    "kwargs = {\n",
    "    'settings': settings,\n",
    "    'subsamples': subsamples,\n",
    "    'solar_meters': solar_meters,\n",
    "    'mp' : True,\n",
    "    'max_id': -1\n",
    "}\n",
    "prf = Population_Run_Features(**kwargs)\n",
    "prf._load_data()"
   ]
  },
  {
   "cell_type": "code",
   "execution_count": 38,
   "metadata": {},
   "outputs": [
    {
     "name": "stdout",
     "output_type": "stream",
     "text": [
      "Max value: 151.36000061035156\n",
      "Index: 3128\n"
     ]
    },
    {
     "data": {
      "image/png": "[encoded data removed]",
      "text/plain": [
       "<Figure size 640x480 with 1 Axes>"
      ]
     },
     "metadata": {},
     "output_type": "display_data"
    }
   ],
   "source": [
    "# subsamples = [1, 2, 3, 4, 5, 6]\n",
    "# solar_meters = [True, False]\n",
    "# kwargs = {\n",
    "#     'settings': settings,\n",
    "#     'subsamples': subsamples,\n",
    "#     'solar_meters': solar_meters,\n",
    "#     'mp' : True,\n",
    "#     'max_id': -1\n",
    "# }\n",
    "# prf = Population_Run_Features(**kwargs)\n",
    "# prf._load_data()\n",
    "# read data to search for anomalies\n",
    "all_max = []\n",
    "# for idx in range(len(prf.arglist)):\n",
    "for idx in [3128]:\n",
    "\n",
    "    data = prf.arglist[idx][-2]\n",
    "    # X_train, y_train, y_scaler, to = data[\"X_train\"], data[\"y_train\"], data[\"y_scaler\"], data[\"train_observed\"]\n",
    "    to = data[\"test_observed\"]\n",
    "    all_max.append(to.max())\n",
    "\n",
    "    if np.abs(to.max()) > 100:\n",
    "        plt.plot(to[8000:8040])\n",
    "        print(f\"Max value: {to.max()}\")\n",
    "        print(f\"Index: {idx}\")\n",
    "        plt.show()\n"
   ]
  },
  {
   "cell_type": "code",
   "execution_count": 47,
   "metadata": {},
   "outputs": [],
   "source": [
    "x0 = [0.01, 0.01]\n",
    "bnds = [(0.0001, 1), (0.0001, 1)]"
   ]
  },
  {
   "cell_type": "code",
   "execution_count": 48,
   "metadata": {},
   "outputs": [
    {
     "name": "stdout",
     "output_type": "stream",
     "text": [
      "  Iter  Cycle  Action             Objective value      Time      Gap\n",
      "  ----  -----  ------             ---------------      ----      ---\n"
     ]
    },
    {
     "name": "stdout",
     "output_type": "stream",
     "text": [
      "alpha: 0.8933293121402434, l1_ratio: 0.9928424438308557, obj: 1.498502840766613, count: 2982, anomalies_count: 12, mean: 9.015036805319653, std: 163.95549537600132, anomalies: [615.3295695075929, 644.4472684687241, 3642.706699022025, 622.0603841818152, 2308.4077885435945, 611.603641795681, 630.6304774360974, 4872.317093452333, 5759.144826655148, 1578.9474865950585, 619.2088089762641, 617.6806793266629]\n",
      "Time taken: 67.79907965660095\n",
      "alpha: 0.20460039476721156, l1_ratio: 0.014354871993423324, obj: 1.4561063658270241, count: 2982, anomalies_count: 12, mean: 9.00025799493597, std: 164.0598748688747, anomalies: [617.9276490668052, 673.5560519974392, 3642.9679332634964, 625.1662116982607, 2310.6303210994747, 624.4596937332384, 645.4540762936458, 4870.933466793658, 5758.475969868689, 1582.5022123600017, 632.8866541636484, 619.7030136037502]\n",
      "Time taken: 91.64644074440002\n",
      "alpha: 0.50005, l1_ratio: 0.50005, obj: 1.4729209998955, count: 2982, anomalies_count: 12, mean: 8.989557496876882, std: 163.9566553044606, anomalies: [615.3295695075929, 644.4472684687241, 3642.706699022025, 622.0603841818152, 2308.4077885435945, 611.603641795681, 630.6304774360974, 4872.317093452333, 5759.144826655148, 1578.9474865950585, 619.2088089762641, 617.6806793266629]\n",
      "Time taken: 72.33784604072571\n",
      "alpha: 0.01, l1_ratio: 0.01, obj: 1.500146689871715, count: 2982, anomalies_count: 12, mean: 9.237235558253586, std: 164.97364196317437, anomalies: [637.6976527170236, 816.219955977426, 3645.743516822163, 644.872777675732, 2316.1891336246413, 746.3800190287002, 760.3955575172312, 4874.245652782703, 5761.091874786681, 1590.5965494970465, 752.6647288695527, 636.7484129148881]\n",
      "Time taken: 156.26151156425476\n",
      "     0      0  Initialization            1.498503    388.05   100.00  \n",
      "     0      0  Initialization            1.456106    388.05   100.00 *\n",
      "     0      0  Initialization            1.472921    388.05   100.00  \n",
      "     0      0  Initialization            1.500147    388.05   100.00  \n",
      "alpha: 0.9989053596701815, l1_ratio: 0.004002430501829632, obj: 1.458124035927085, count: 2982, anomalies_count: 12, mean: 8.98181287277239, std: 163.98252243316273, anomalies: [615.3692647489335, 657.4627825327619, 3643.288104747745, 622.318523848556, 2309.7551710176645, 612.6327239701998, 633.2721146413232, 4871.304608247819, 5758.738676142664, 1580.5269767760433, 620.9851118511168, 617.7678074211371]\n",
      "Time taken: 86.34903764724731\n",
      "     0      0  GlobalStep                1.458124    474.43   100.00  \n",
      "alpha: 0.5999986856285442, l1_ratio: 0.004214416148381787, obj: 1.4570507283885656, count: 2982, anomalies_count: 12, mean: 8.984755936346074, std: 163.99998295697586, anomalies: [615.9224682150009, 660.6224023944688, 3643.401839173532, 622.9716682651555, 2310.1384638407017, 614.5540767011049, 635.420412590896, 4871.22140019805, 5758.675074366777, 1581.3105122694847, 623.0088909322202, 618.1867924180528]\n",
      "Time taken: 95.22714257240295\n",
      "     1      0  GlobalStep                1.457051    569.68   100.00  \n",
      "alpha: 0.4011231059915588, l1_ratio: 0.00031751988819519523, obj: 1.4564838352420295, count: 2982, anomalies_count: 12, mean: 8.990798392224006, std: 164.0339441307878, anomalies: [616.8258986481089, 665.1809045850191, 3643.700613518786, 623.9972889314679, 2310.772314284705, 617.906602306214, 638.8664583743661, 4871.386062870134, 5758.776067517295, 1582.4796827176458, 626.4195568289819, 618.9041390442173]\n",
      "Time taken: 122.5514132976532\n",
      "     2      0  GlobalStep                1.456484    692.32   100.00  \n",
      "alpha: 0.3029110232123471, l1_ratio: 0.008419331032011756, obj: 1.4560272291524645, count: 2982, anomalies_count: 12, mean: 8.99228300910636, std: 164.03140500970082, anomalies: [617.0441761588439, 667.3388050957313, 3643.214142517544, 624.2177302393077, 2310.4831190379564, 619.487420448842, 640.5101819252441, 4871.033397052834, 5758.554868599364, 1582.1145072535041, 627.9897690314842, 619.0340145711341]\n",
      "Time taken: 106.03051948547363\n",
      "     3      0  GlobalStep                1.456027    798.42   100.00 *\n",
      "alpha: 0.2472268610928443, l1_ratio: 0.010656663526545195, obj: 1.4559953863979282, count: 2982, anomalies_count: 12, mean: 8.996138198728113, std: 164.04582577413126, anomalies: [617.4981146479109, 670.3907360608052, 3643.1142588255793, 624.7083823781518, 2310.5785187688, 621.8785689907111, 642.8949677058675, 4870.99264333638, 5758.522159667958, 1582.3505829515582, 630.3528163096033, 619.3777751100262]\n",
      "Time taken: 99.71596956253052\n",
      "     4      0  GlobalStep                1.455995    898.16   100.00 *\n",
      "alpha: 0.22234110375981203, l1_ratio: 0.015299553751013297, obj: 1.455922960812423, count: 2982, anomalies_count: 12, mean: 8.997296791189413, std: 164.04730189514632, anomalies: [617.5969410348058, 671.458230182851, 3642.916881025754, 624.812861733788, 2310.5054002456336, 622.8343650967604, 643.8730206638231, 4870.896983780202, 5758.443551079269, 1582.2596676550515, 631.2981833142417, 619.4482378662731]\n",
      "Time taken: 91.81436514854431\n",
      "     5      0  LocalStep                 1.455923    990.16   100.00 *\n",
      "Summary: iters   6 evals  10 noisy_evals   0 cycles   0 opt_time  990.16 tot_time  990.16 obj         1.455923 gap 100.00\n"
     ]
    }
   ],
   "source": [
    "import rbfopt\n",
    "\n",
    "bnds = np.array(bnds).T\n",
    "n_dim = np.size(bnds[0])\n",
    "\n",
    "var_type = ['R']*n_dim  \n",
    "max_eval = 500\n",
    "max_time = 1E30\n",
    "rbfopt_initialize = True\n",
    "bb = rbfopt.RbfoptUserBlackBox(n_dim, np.array(bnds[0]), np.array(bnds[1]),\n",
    "                                np.array(var_type), obj_fcn)\n",
    "\n",
    "\n",
    "bonmin_path = \"/app/applied_data_science/tools/optimization/coin-or/bonmin\"\n",
    "ipopt_path = \"/app/applied_data_science/tools/optimization/coin-or/ipopt\"\n",
    "rbfsettings = rbfopt.RbfoptSettings(max_iterations=max_eval,\n",
    "                                    max_evaluations=max_eval,\n",
    "                                    max_cycles=1E30,\n",
    "                                    max_clock_time=max_time,\n",
    "                                    minlp_solver_path=bonmin_path, \n",
    "                                    nlp_solver_path=ipopt_path,)\n",
    "                                    \n",
    "algo = rbfopt.RbfoptAlgorithm(rbfsettings, bb, init_node_pos=x0, do_init_strategy=rbfopt_initialize)\n",
    "\n",
    "loss, x_opt, itercount, evalcount, fast_evalcount = algo.optimize()\n"
   ]
  },
  {
   "cell_type": "code",
   "execution_count": null,
   "metadata": {},
   "outputs": [],
   "source": [
    "x_opt"
   ]
  },
  {
   "cell_type": "markdown",
   "metadata": {},
   "source": [
    "alpha: 0.214495100289607, l1_ratio: 0.05470843655047026, obj: 2.5093091791435684, count: 17964\n",
    "Time taken: 68.52248573303223\n",
    "    75     11  GlobalStep                2.509309   5865.85   100.00 *"
   ]
  },
  {
   "cell_type": "code",
   "execution_count": null,
   "metadata": {},
   "outputs": [],
   "source": [
    "settings = em.HourlySettings(\n",
    "    TRAIN_FEATURES=['ghi'],\n",
    "    ALPHA=0.1,\n",
    "    L1_RATIO=0.1,\n",
    "    # ALPHA=0.214495100289607,\n",
    "    # L1_RATIO=0.05470843655047026,\n",
    "    SEED=42\n",
    ")"
   ]
  },
  {
   "cell_type": "code",
   "execution_count": null,
   "metadata": {},
   "outputs": [],
   "source": [
    "subsamples = [2]\n",
    "solar_meters = [False]\n",
    "kwargs = {\n",
    "    'settings': settings,\n",
    "    'subsamples': subsamples,\n",
    "    'solar_meters': solar_meters,\n",
    "    'mp' : True,\n",
    "    'max_id': -1\n",
    "}\n",
    "prf = Population_Run_Features(**kwargs)\n",
    "prf._load_data()\n",
    "prf.run()"
   ]
  },
  {
   "cell_type": "code",
   "execution_count": null,
   "metadata": {},
   "outputs": [],
   "source": [
    "calc_id_kf_num = 0\n",
    "train_errors = []\n",
    "test_errors = []\n",
    "for res in prf.results:\n",
    "    _, _, errors = res\n",
    "    if (errors!=None) and (errors['train'][0]!= np.inf) and (errors['test'][0]!= np.inf):\n",
    "\n",
    "        calc_id_kf_num += 1\n",
    "        train_errors.append(errors['train'])\n",
    "        test_errors.append(errors['test'])\n",
    "print(len(prf.results))\n",
    "print(f\"Calculated {calc_id_kf_num} id/kfold pairs\")\n",
    "print('avg. train pnrmse:', np.mean(train_errors))\n",
    "print('avg. test pnrmse:', np.mean(test_errors))"
   ]
  },
  {
   "cell_type": "code",
   "execution_count": null,
   "metadata": {},
   "outputs": [],
   "source": [
    "2992\n",
    "Calculated 2992 id/kfold pairs\n",
    "avg. train pnrmse: 0.7720693385313679\n",
    "avg. test pnrmse: 0.9925083280594323"
   ]
  },
  {
   "cell_type": "markdown",
   "metadata": {},
   "source": [
    "2992\n",
    "Calculated 2992 id/kfold pairs\n",
    "avg. train pnrmse: 0.7384222738289371\n",
    "avg. test pnrmse: 0.9147681362583479"
   ]
  },
  {
   "cell_type": "code",
   "execution_count": null,
   "metadata": {},
   "outputs": [],
   "source": [
    "sid = ids[20]\n",
    "lat = meta.loc[meta.index == sid].iloc[0]['station_latitude']\n",
    "lon = meta.loc[meta.index == sid].iloc[0]['station_longitude']\n",
    "sd = subsample_df.loc[sid].copy()\n",
    "metadata = {'lat': lat, 'lon': lon, 'sid': sid}\n",
    "\n",
    "data_loader = MCE_Data_Loader_Test(settings)\n",
    "# sid, df_trains, df_tests = data_loader.get_all_cleaned_data(metadata, sd)\n",
    "sid, train_datasets, test_datasets, df_trains, df_tests = data_loader.get_all_cleaned_data_new(metadata, sd)"
   ]
  },
  {
   "cell_type": "code",
   "execution_count": null,
   "metadata": {},
   "outputs": [],
   "source": [
    "sid"
   ]
  },
  {
   "cell_type": "code",
   "execution_count": null,
   "metadata": {},
   "outputs": [],
   "source": []
  },
  {
   "cell_type": "code",
   "execution_count": null,
   "metadata": {},
   "outputs": [],
   "source": [
    "settings = em.HourlySettings(\n",
    "    TRAIN_FEATURES=['ghi'],\n",
    "    LAGGED_FEATURES=None, # 'ghi'\n",
    "    WINDOW=None,\n",
    "    OUTPUT_FEATURES=['start_local', 'temperature', 'ghi', 'clearsky_ghi', 'observed', 'predicted', 'month'],\n",
    "    SUPPLEMENTAL_DATA=False,\n",
    "    ALPHA=0.1,\n",
    "    L1_RATIO=0.1,\n",
    "    SELECTION=\"cyclic\",\n",
    "    MAX_ITER=1000,\n",
    "    SEED=42\n",
    ")\n",
    "import time\n",
    "\n",
    "tic = time.time()\n",
    "data_loader = MCE_Data_Loader_Test(settings)\n",
    "sid, train_datasets, test_datasets, df_trains, df_tests = data_loader.get_all_cleaned_data_new(metadata, sd)    \n",
    "load_data_tac = time.time()\n",
    "errors = {'train': {\n",
    "    'new_model': [],\n",
    "    'oeem': []\n",
    "}, 'test': {\n",
    "    'new_model': [],\n",
    "    'oeem': []\n",
    "}} \n",
    "calc_tic = time.time()\n",
    "avg_fit_time =0\n",
    "for k in range(len(df_trains)):\n",
    "    tic2 = time.time()\n",
    "    model = em.HourlyModelTest(settings=settings)\n",
    "    X_train, y_train, y_scaler = train_datasets[\"X\"][k], train_datasets[\"y\"][k], train_datasets[\"y_scalar\"][k]\n",
    "    X_test, y_test = test_datasets[\"X\"][k], test_datasets[\"y\"][k]\n",
    "    model.fit(X_train, y_train)\n",
    "    \n",
    "    tak2 = time.time()\n",
    "    avg_fit_time += tak2 - tic2\n",
    "    iqr = df_trains[k][\"observed\"].quantile(0.75) - df_trains[k][\"observed\"].quantile(0.25)\n",
    "\n",
    "    for train_test in ['train', 'test']:\n",
    "        if train_test == 'train':\n",
    "            y_pred = model.predict(X_train, y_scaler)\n",
    "            df_trains[k][\"predicted\"] = y_pred\n",
    "            new_df = df_trains[k].copy()\n",
    "        else:\n",
    "            y_pred = model.predict(X_test, y_scaler)\n",
    "            df_tests[k][\"predicted\"] = y_pred\n",
    "            new_df = df_tests[k].copy()\n",
    "        \n",
    "        metrics = Metrics(df=new_df, num_model_params=model.num_model_params)\n",
    "        obs = metrics.observed\n",
    "        ct = metrics.caltrack\n",
    "                    \n",
    "        err = metrics.rmse / iqr\n",
    "        errors[train_test]['new_model'].append(err)\n",
    "\n",
    "        ct_pnrmse = np.sqrt(np.mean((obs.values - ct.values)**2))\n",
    "        ct_pnrmse = ct_pnrmse / iqr\n",
    "        errors[train_test]['oeem'].append(ct_pnrmse)\n",
    "\n",
    "avg_fit_time = avg_fit_time / len(df_trains)\n",
    "load_data_time = load_data_tac - tic\n",
    "tak = time.time()\n",
    "total_time = tak - tic\n",
    "calc_time = tak - calc_tic"
   ]
  },
  {
   "cell_type": "code",
   "execution_count": null,
   "metadata": {},
   "outputs": [],
   "source": [
    "print(f\"Total Time: {total_time:.2f} seconds\")\n",
    "print(f\"Compute Time: {calc_time:.2f} seconds\")\n",
    "print(f\"Average Fit Time: {avg_fit_time:.2f} seconds\")\n",
    "print(f\"Load Data Time: {load_data_time:.2f} seconds\")\n",
    "\n",
    "train_error = errors['train']\n",
    "test_error = errors['test']\n",
    "print(f\"Train Error New Model: {np.mean(train_error['new_model'])}\")\n",
    "print(f\"Train Error OEEM: {np.mean(train_error['oeem'])}\")\n",
    "\n",
    "print(\"_____________________________\")\n",
    "print(f\"Test Error New Model: {np.mean(test_error['new_model'])}\")\n",
    "print(f\"Test Error OEEM: {np.mean(test_error['oeem'])}\")\n",
    "\n",
    "#test error improvement percentage\n",
    "improvement = -(np.mean(test_error['new_model']) - np.mean(test_error['oeem'])) / np.mean(test_error['oeem'])\n",
    "print(f\"Test Error Improvement: {improvement * 100:.2f}%\")"
   ]
  },
  {
   "cell_type": "code",
   "execution_count": null,
   "metadata": {},
   "outputs": [],
   "source": []
  },
  {
   "cell_type": "code",
   "execution_count": null,
   "metadata": {},
   "outputs": [],
   "source": []
  },
  {
   "cell_type": "code",
   "execution_count": null,
   "metadata": {},
   "outputs": [],
   "source": [
    "settings = em.HourlySettings(\n",
    "    TRAIN_FEATURES=['ghi'],\n",
    "    LAGGED_FEATURES=None, # 'ghi'\n",
    "    WINDOW=None,\n",
    "    OUTPUT_FEATURES=['start_local', 'temperature', 'ghi', 'clearsky_ghi', 'observed', 'predicted', 'month'],\n",
    "    SUPPLEMENTAL_DATA=False,\n",
    "    ALPHA=0.1,\n",
    "    L1_RATIO=0.1,\n",
    "    SELECTION=\"cyclic\",\n",
    "    MAX_ITER=1000,\n",
    "    SEED=42\n",
    ")\n",
    "\n",
    "err_type = 'pnrmse'\n",
    "\n",
    "tr_errors = []\n",
    "te_errors = []\n",
    "# for k in range(len(df_trains)):\n",
    "\n",
    "for k in range(1):\n",
    "    model = em.HourlyModel(settings=settings)\n",
    "\n",
    "    model.fit(df_trains[k])\n",
    "    tr_errors.append(getattr(model.baseline_metrics, err_type))\n",
    "\n",
    "    # new_df = model.predict(df_trains[k])\n",
    "    new_df = model.predict(df_tests[k])\n",
    "    num_model_parameters = model.baseline_metrics.num_model_params\n",
    "    tr_metrics = Metrics(df=new_df, num_model_params=num_model_parameters)\n",
    "\n",
    "    if err_type == \"cvrmse\":\n",
    "        err = tr_metrics.rmse / model.baseline_metrics.observed.mean\n",
    "    elif err_type == \"pnrmse\":\n",
    "        err = tr_metrics.rmse / model.baseline_metrics.observed.iqr\n",
    "\n",
    "    te_errors.append(err)\n",
    "\n",
    "# plt.plot(tr_errors, label='train')\n",
    "# plt.plot(te_errors, label='test')\n",
    "# plt.legend()\n",
    "print(np.mean(tr_errors), np.mean(te_errors))"
   ]
  },
  {
   "cell_type": "code",
   "execution_count": null,
   "metadata": {},
   "outputs": [],
   "source": []
  },
  {
   "cell_type": "code",
   "execution_count": null,
   "metadata": {},
   "outputs": [],
   "source": [
    "settings = em.HourlySettings(\n",
    "    TRAIN_FEATURES=['ghi'],\n",
    "    LAGGED_FEATURES=None, # 'ghi'\n",
    "    WINDOW=None,\n",
    "    OUTPUT_FEATURES=['start_local', 'temperature', 'ghi', 'clearsky_ghi', 'observed', 'predicted', 'month'],\n",
    "    SUPPLEMENTAL_DATA=False,\n",
    "    ALPHA=0.1,\n",
    "    L1_RATIO=0.1,\n",
    "    SELECTION=\"cyclic\",\n",
    "    MAX_ITER=1000,\n",
    "    SEED=42\n",
    ")\n",
    "\n",
    "arglist = []\n",
    "for sid in ids:\n",
    "    lat = meta.loc[meta.index == sid].iloc[0][\"station_latitude\"]\n",
    "    lon = meta.loc[meta.index == sid].iloc[0][\"station_longitude\"]\n",
    "    sd = subsample_df.loc[sid].copy()\n",
    "    metadata = {\"lat\": lat, \"lon\": lon, \"sid\": sid}\n",
    "    data_loader = MCE_Data_Loader_Test()\n",
    "    arglist.append([sid, sd, metadata, data_loader, settings])\n"
   ]
  },
  {
   "cell_type": "code",
   "execution_count": null,
   "metadata": {},
   "outputs": [],
   "source": [
    "results = []\n",
    "with mp.Pool(processes=mp.cpu_count() - 1) as pool:\n",
    "    results = pool.map(train_dec, arglist[0:10])"
   ]
  },
  {
   "cell_type": "code",
   "execution_count": null,
   "metadata": {},
   "outputs": [],
   "source": [
    "tr_nm_err = []\n",
    "te_nm_err = []\n",
    "tr_ct_err = []\n",
    "te_ct_err = []\n",
    "for res in results:\n",
    "    tr_nm_err.append(np.mean(res[3]['train']['new_model']))\n",
    "    te_nm_err.append(np.mean(res[3]['test']['new_model']))\n",
    "\n",
    "    tr_ct_err.append(np.mean(res[3]['train']['oeem']))\n",
    "    te_ct_err.append(np.mean(res[3]['test']['oeem']))\n",
    "\n",
    "print('train error for new model:', np.mean(tr_nm_err))\n",
    "print('train error for oeem:', np.mean(tr_ct_err))\n",
    "\n",
    "print(\"___________________________\")\n",
    "\n",
    "print('test error for new model:', np.mean(te_nm_err))\n",
    "print('test error for oeem:', np.mean(te_ct_err))\n",
    "    "
   ]
  },
  {
   "cell_type": "code",
   "execution_count": null,
   "metadata": {},
   "outputs": [],
   "source": [
    "start = 24*70\n",
    "window = 24*14\n",
    "end = start + window\n",
    "plt.rcParams['figure.figsize'] = [10, 5]\n",
    "\n",
    "plt.plot(new_df['predicted'][start:end].values, label='pred')\n",
    "plt.plot(new_df['observed'][start:end].values, label='observed')\n",
    "plt.plot(-new_df['ghi'][start:end].values*20, label='ghi', c='r')\n",
    "plt.legend()\n",
    "plt.show()"
   ]
  },
  {
   "cell_type": "code",
   "execution_count": null,
   "metadata": {},
   "outputs": [],
   "source": [
    "start = 4000\n",
    "window = 600\n",
    "end = start + window\n",
    "plt.rcParams['figure.figsize'] = [10, 5]\n",
    "\n",
    "plt.plot(new_df['predicted'][start:end].values, label='pred')\n",
    "plt.plot(new_df['observed'][start:end].values, label='observed')\n",
    "# plt.plot(-new_df['ghi'][start:end].values*20, label='ghi', c='r')\n",
    "plt.legend()\n",
    "plt.show()"
   ]
  },
  {
   "cell_type": "code",
   "execution_count": null,
   "metadata": {},
   "outputs": [],
   "source": [
    "# Testing Serialization\n",
    "\n",
    "# json = model.to_json()\n",
    "# new_model = em.HourlyModel.from_json(json)\n",
    "# new_model.baseline_metrics.observed.iqr"
   ]
  },
  {
   "cell_type": "code",
   "execution_count": null,
   "metadata": {},
   "outputs": [],
   "source": []
  }
 ],
 "metadata": {
  "kernelspec": {
   "display_name": "Python 3",
   "language": "python",
   "name": "python3"
  },
  "language_info": {
   "codemirror_mode": {
    "name": "ipython",
    "version": 3
   },
   "file_extension": ".py",
   "mimetype": "text/x-python",
   "name": "python",
   "nbconvert_exporter": "python",
   "pygments_lexer": "ipython3",
   "version": "3.11.6"
  }
 },
 "nbformat": 4,
 "nbformat_minor": 2
}
